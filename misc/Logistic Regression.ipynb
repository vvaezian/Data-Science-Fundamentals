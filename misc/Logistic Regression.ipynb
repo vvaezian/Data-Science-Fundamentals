{
 "cells": [
  {
   "cell_type": "code",
   "execution_count": 96,
   "metadata": {},
   "outputs": [
    {
     "data": {
      "text/plain": [
       "array([1])"
      ]
     },
     "execution_count": 96,
     "metadata": {},
     "output_type": "execute_result"
    }
   ],
   "source": [
    "from sklearn.linear_model import LogisticRegression\n",
    "import numpy as np\n",
    "import matplotlib.pyplot as plt \n",
    "\n",
    "X_train = np.array([1, 2, 3, 4, 5, 6, 7, 8]).reshape(-1, 1)\n",
    "y_train = [0, 0, 0, 0, 1, 1, 1, 1]\n",
    "\n",
    "model = LogisticRegression()\n",
    "model.fit(X_train, y_train)\n",
    "\n",
    "model.predict([[5]])"
   ]
  },
  {
   "cell_type": "code",
   "execution_count": 99,
   "metadata": {},
   "outputs": [
    {
     "data": {
      "text/plain": [
       "array([[0.98360598, 0.01639402],\n",
       "       [0.9490448 , 0.0509552 ],\n",
       "       [0.85254586, 0.14745414],\n",
       "       [0.64219651, 0.35780349],\n",
       "       [0.35780843, 0.64219157],\n",
       "       [0.14745684, 0.85254316],\n",
       "       [0.05095624, 0.94904376],\n",
       "       [0.01639437, 0.98360563]])"
      ]
     },
     "execution_count": 99,
     "metadata": {},
     "output_type": "execute_result"
    }
   ],
   "source": [
    "# class probabilities for each point\n",
    "class_prob = model.predict_proba(X_train)\n",
    "\n",
    "class_prob"
   ]
  },
  {
   "cell_type": "code",
   "execution_count": 97,
   "metadata": {},
   "outputs": [
    {
     "data": {
      "text/plain": [
       "(0.0, 10.0)"
      ]
     },
     "execution_count": 97,
     "metadata": {},
     "output_type": "execute_result"
    },
    {
     "data": {
      "image/png": "[encoded data removed]",
      "text/plain": [
       "<Figure size 432x288 with 1 Axes>"
      ]
     },
     "metadata": {
      "needs_background": "light"
     },
     "output_type": "display_data"
    }
   ],
   "source": [
    "plt.scatter( X_train, y_train)\n",
    "\n",
    "plt.plot(X_train, [ i[0] for i in class_prob], color='g')\n",
    "plt.plot(X_train, [ i[1] for i in class_prob], color='c')\n",
    "\n",
    "# plotting the decision boundary (a point)\n",
    "# ax + b = 0 -> x = -b/a\n",
    "plt.scatter(- model.intercept_/model.coef_, 0, marker='x', color='r')\n",
    "\n",
    "plt.axhline(0, color='black')\n",
    "plt.axvline(0, color='black')\n",
    "plt.ylim(-0.5, 1.5)\n",
    "plt.xlim(0, 10)"
   ]
  }
 ],
 "metadata": {
  "kernelspec": {
   "display_name": "Python 3.10.1 64-bit",
   "language": "python",
   "name": "python3"
  },
  "language_info": {
   "codemirror_mode": {
    "name": "ipython",
    "version": 3
   },
   "file_extension": ".py",
   "mimetype": "text/x-python",
   "name": "python",
   "nbconvert_exporter": "python",
   "pygments_lexer": "ipython3",
   "version": "3.10.1"
  },
  "orig_nbformat": 4,
  "vscode": {
   "interpreter": {
    "hash": "26de051ba29f2982a8de78e945f0abaf191376122a1563185a90213a26c5da77"
   }
  }
 },
 "nbformat": 4,
 "nbformat_minor": 2
}
