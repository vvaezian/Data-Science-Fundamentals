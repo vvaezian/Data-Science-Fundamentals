{
 "cells": [
  {
   "cell_type": "code",
   "execution_count": 131,
   "metadata": {},
   "outputs": [
    {
     "data": {
      "text/plain": [
       "array([1])"
      ]
     },
     "execution_count": 131,
     "metadata": {},
     "output_type": "execute_result"
    }
   ],
   "source": [
    "from sklearn.linear_model import LogisticRegression\n",
    "import numpy as np\n",
    "import matplotlib.pyplot as plt \n",
    "\n",
    "X_train = np.array([1, 2, 3, 4, 5, 6, 7, 8]).reshape(-1, 1)\n",
    "y_train = [0, 0, 0, 0, 1, 1, 1, 1]\n",
    "\n",
    "model = LogisticRegression()  # default regularization: l2\n",
    "model.fit(X_train, y_train)\n",
    "\n",
    "model.predict([[5]])"
   ]
  },
  {
   "cell_type": "code",
   "execution_count": 132,
   "metadata": {},
   "outputs": [
    {
     "data": {
      "text/plain": [
       "array([[0.99485263, 0.00514737],\n",
       "       [0.99427836, 0.00572164],\n",
       "       [0.99364045, 0.00635955],\n",
       "       [0.99293191, 0.00706809],\n",
       "       [0.99214506, 0.00785494],\n",
       "       [0.99127138, 0.00872862],\n",
       "       [0.99030147, 0.00969853],\n",
       "       [0.98922497, 0.01077503],\n",
       "       [0.98803042, 0.01196958],\n",
       "       [0.98670521, 0.01329479],\n",
       "       [0.98523548, 0.01476452],\n",
       "       [0.98360598, 0.01639402],\n",
       "       [0.98179995, 0.01820005],\n",
       "       [0.97979905, 0.02020095],\n",
       "       [0.97758319, 0.02241681],\n",
       "       [0.97513045, 0.02486955],\n",
       "       [0.97241691, 0.02758309],\n",
       "       [0.96941657, 0.03058343],\n",
       "       [0.96610126, 0.03389874],\n",
       "       [0.96244048, 0.03755952],\n",
       "       [0.95840139, 0.04159861],\n",
       "       [0.95394873, 0.04605127],\n",
       "       [0.9490448 , 0.0509552 ],\n",
       "       [0.9436495 , 0.0563505 ],\n",
       "       [0.93772043, 0.06227957],\n",
       "       [0.93121298, 0.06878702],\n",
       "       [0.92408064, 0.07591936],\n",
       "       [0.91627525, 0.08372475],\n",
       "       [0.90774749, 0.09225251],\n",
       "       [0.89844741, 0.10155259],\n",
       "       [0.88832512, 0.11167488],\n",
       "       [0.87733164, 0.12266836],\n",
       "       [0.86541989, 0.13458011],\n",
       "       [0.85254586, 0.14745414],\n",
       "       [0.83866987, 0.16133013],\n",
       "       [0.82375804, 0.17624196],\n",
       "       [0.80778379, 0.19221621],\n",
       "       [0.79072949, 0.20927051],\n",
       "       [0.77258805, 0.22741195],\n",
       "       [0.75336446, 0.24663554],\n",
       "       [0.7330773 , 0.2669227 ],\n",
       "       [0.71175986, 0.28824014],\n",
       "       [0.68946113, 0.31053887],\n",
       "       [0.66624624, 0.33375376],\n",
       "       [0.64219651, 0.35780349],\n",
       "       [0.61740897, 0.38259103],\n",
       "       [0.59199521, 0.40800479],\n",
       "       [0.56607976, 0.43392024],\n",
       "       [0.53979785, 0.46020215],\n",
       "       [0.51329273, 0.48670727],\n",
       "       [0.48671264, 0.51328736],\n",
       "       [0.4602075 , 0.5397925 ],\n",
       "       [0.43392552, 0.56607448],\n",
       "       [0.40800998, 0.59199002],\n",
       "       [0.38259611, 0.61740389],\n",
       "       [0.35780843, 0.64219157],\n",
       "       [0.33375855, 0.66624145],\n",
       "       [0.31054348, 0.68945652],\n",
       "       [0.28824455, 0.71175545],\n",
       "       [0.26692691, 0.73307309],\n",
       "       [0.24663954, 0.75336046],\n",
       "       [0.22741574, 0.77258426],\n",
       "       [0.20927407, 0.79072593],\n",
       "       [0.19221955, 0.80778045],\n",
       "       [0.17624508, 0.82375492],\n",
       "       [0.16133304, 0.83866696],\n",
       "       [0.14745684, 0.85254316],\n",
       "       [0.13458261, 0.86541739],\n",
       "       [0.12267068, 0.87732932],\n",
       "       [0.11167702, 0.88832298],\n",
       "       [0.10155455, 0.89844545],\n",
       "       [0.09225431, 0.90774569],\n",
       "       [0.0837264 , 0.9162736 ],\n",
       "       [0.07592087, 0.92407913],\n",
       "       [0.0687884 , 0.9312116 ],\n",
       "       [0.06228083, 0.93771917],\n",
       "       [0.05635164, 0.94364836],\n",
       "       [0.05095624, 0.94904376],\n",
       "       [0.04605222, 0.95394778],\n",
       "       [0.04159947, 0.95840053],\n",
       "       [0.0375603 , 0.9624397 ],\n",
       "       [0.03389945, 0.96610055],\n",
       "       [0.03058406, 0.96941594],\n",
       "       [0.02758367, 0.97241633],\n",
       "       [0.02487008, 0.97512992],\n",
       "       [0.02241728, 0.97758272],\n",
       "       [0.02020138, 0.97979862],\n",
       "       [0.01820044, 0.98179956],\n",
       "       [0.01639437, 0.98360563],\n",
       "       [0.01476483, 0.98523517],\n",
       "       [0.01329507, 0.98670493],\n",
       "       [0.01196984, 0.98803016],\n",
       "       [0.01077526, 0.98922474],\n",
       "       [0.00969873, 0.99030127],\n",
       "       [0.00872881, 0.99127119],\n",
       "       [0.00785511, 0.99214489],\n",
       "       [0.00706824, 0.99293176],\n",
       "       [0.00635969, 0.99364031],\n",
       "       [0.00572176, 0.99427824],\n",
       "       [0.00514748, 0.99485252]])"
      ]
     },
     "execution_count": 132,
     "metadata": {},
     "output_type": "execute_result"
    }
   ],
   "source": [
    "# class probabilities for each point\n",
    "X = np.linspace(0, 9, 100).reshape(-1, 1)\n",
    "y_prob = model.predict_proba(X)\n",
    "\n",
    "y_prob"
   ]
  },
  {
   "cell_type": "code",
   "execution_count": 133,
   "metadata": {},
   "outputs": [
    {
     "data": {
      "text/plain": [
       "(0.0, 10.0)"
      ]
     },
     "execution_count": 133,
     "metadata": {},
     "output_type": "execute_result"
    },
    {
     "data": {
      "image/png": "[encoded data removed]",
      "text/plain": [
       "<Figure size 432x288 with 1 Axes>"
      ]
     },
     "metadata": {
      "needs_background": "light"
     },
     "output_type": "display_data"
    }
   ],
   "source": [
    "plt.scatter( X_train, y_train)\n",
    "\n",
    "plt.plot(X, y_prob[:, 1], color='g')\n",
    "plt.plot(X, y_prob[:, 0], color='c')\n",
    "\n",
    "# plotting the decision boundary (a point)\n",
    "# ax + b = 0 -> x = -b/a\n",
    "plt.scatter(- model.intercept_/model.coef_, 0, marker='x', color='r')\n",
    "plt.xlim(0, 10)"
   ]
  },
  {
   "cell_type": "markdown",
   "metadata": {},
   "source": [
    "#### Withhout regularization"
   ]
  },
  {
   "cell_type": "code",
   "execution_count": 134,
   "metadata": {},
   "outputs": [
    {
     "data": {
      "text/plain": [
       "(0.0, 10.0)"
      ]
     },
     "execution_count": 134,
     "metadata": {},
     "output_type": "execute_result"
    },
    {
     "data": {
      "image/png": "[encoded data removed]",
      "text/plain": [
       "<Figure size 432x288 with 1 Axes>"
      ]
     },
     "metadata": {
      "needs_background": "light"
     },
     "output_type": "display_data"
    }
   ],
   "source": [
    "model = LogisticRegression(penalty='none')\n",
    "model.fit(X_train, y_train)\n",
    "y_prob = model.predict_proba(X)\n",
    "\n",
    "plt.scatter( X_train, y_train)\n",
    "\n",
    "plt.plot(X, y_prob[:, 1], color='g')\n",
    "plt.plot(X, y_prob[:, 0], color='c')\n",
    "\n",
    "# plotting the decision boundary (a point)\n",
    "# ax + b = 0 -> x = -b/a\n",
    "plt.scatter(- model.intercept_/model.coef_, 0, marker='x', color='r')\n",
    "\n",
    "plt.xlim(0, 10)"
   ]
  },
  {
   "cell_type": "markdown",
   "metadata": {},
   "source": [
    "#### With Two features (predictors)"
   ]
  },
  {
   "cell_type": "code",
   "execution_count": 135,
   "metadata": {},
   "outputs": [
    {
     "data": {
      "text/plain": [
       "array([0])"
      ]
     },
     "execution_count": 135,
     "metadata": {},
     "output_type": "execute_result"
    }
   ],
   "source": [
    "X_train = np.array(np.array([[1, 2], [2, 2], [2, 1], [3, 4], [4, 4], [4, 3]]))\n",
    "y_train = [0, 0, 0, 1, 1, 1]\n",
    "\n",
    "model = LogisticRegression() \n",
    "model.fit(X_train, y_train)\n",
    "\n",
    "model.predict([[1, 1]])"
   ]
  },
  {
   "cell_type": "code",
   "execution_count": 136,
   "metadata": {},
   "outputs": [],
   "source": [
    "X = list(zip(np.linspace(0, 5, 100), np.linspace(0, 5, 100)))\n",
    "y_prob = model.predict_proba(X)"
   ]
  },
  {
   "cell_type": "code",
   "execution_count": 137,
   "metadata": {},
   "outputs": [
    {
     "data": {
      "text/html": [
       "<div>\n",
       "<style scoped>\n",
       "    .dataframe tbody tr th:only-of-type {\n",
       "        vertical-align: middle;\n",
       "    }\n",
       "\n",
       "    .dataframe tbody tr th {\n",
       "        vertical-align: top;\n",
       "    }\n",
       "\n",
       "    .dataframe thead th {\n",
       "        text-align: right;\n",
       "    }\n",
       "</style>\n",
       "<table border=\"1\" class=\"dataframe\">\n",
       "  <thead>\n",
       "    <tr style=\"text-align: right;\">\n",
       "      <th></th>\n",
       "      <th>feat1</th>\n",
       "      <th>feat2</th>\n",
       "      <th>y</th>\n",
       "    </tr>\n",
       "  </thead>\n",
       "  <tbody>\n",
       "    <tr>\n",
       "      <th>0</th>\n",
       "      <td>1</td>\n",
       "      <td>2</td>\n",
       "      <td>0</td>\n",
       "    </tr>\n",
       "    <tr>\n",
       "      <th>1</th>\n",
       "      <td>2</td>\n",
       "      <td>2</td>\n",
       "      <td>0</td>\n",
       "    </tr>\n",
       "    <tr>\n",
       "      <th>2</th>\n",
       "      <td>2</td>\n",
       "      <td>1</td>\n",
       "      <td>0</td>\n",
       "    </tr>\n",
       "    <tr>\n",
       "      <th>3</th>\n",
       "      <td>3</td>\n",
       "      <td>4</td>\n",
       "      <td>1</td>\n",
       "    </tr>\n",
       "    <tr>\n",
       "      <th>4</th>\n",
       "      <td>4</td>\n",
       "      <td>4</td>\n",
       "      <td>1</td>\n",
       "    </tr>\n",
       "    <tr>\n",
       "      <th>5</th>\n",
       "      <td>4</td>\n",
       "      <td>3</td>\n",
       "      <td>1</td>\n",
       "    </tr>\n",
       "  </tbody>\n",
       "</table>\n",
       "</div>"
      ],
      "text/plain": [
       "   feat1  feat2  y\n",
       "0      1      2  0\n",
       "1      2      2  0\n",
       "2      2      1  0\n",
       "3      3      4  1\n",
       "4      4      4  1\n",
       "5      4      3  1"
      ]
     },
     "execution_count": 137,
     "metadata": {},
     "output_type": "execute_result"
    }
   ],
   "source": [
    "import pandas as pd\n",
    "df = pd.concat([pd.DataFrame(X_train), pd.DataFrame(y_train)], axis=1)\n",
    "df.columns = ['feat1', 'feat2', 'y']\n",
    "\n",
    "df"
   ]
  },
  {
   "cell_type": "code",
   "execution_count": 138,
   "metadata": {},
   "outputs": [
    {
     "data": {
      "text/plain": [
       "array([[0.86834805, 0.86834805]])"
      ]
     },
     "execution_count": 138,
     "metadata": {},
     "output_type": "execute_result"
    }
   ],
   "source": [
    "model.coef_"
   ]
  },
  {
   "cell_type": "code",
   "execution_count": 139,
   "metadata": {},
   "outputs": [
    {
     "data": {
      "text/plain": [
       "array([-4.63291466])"
      ]
     },
     "execution_count": 139,
     "metadata": {},
     "output_type": "execute_result"
    }
   ],
   "source": [
    "model.intercept_"
   ]
  },
  {
   "cell_type": "code",
   "execution_count": 140,
   "metadata": {},
   "outputs": [
    {
     "data": {
      "text/plain": [
       "[<matplotlib.lines.Line2D at 0x2013ec024d0>]"
      ]
     },
     "execution_count": 140,
     "metadata": {},
     "output_type": "execute_result"
    },
    {
     "data": {
      "image/png": "[encoded data removed]",
      "text/plain": [
       "<Figure size 432x288 with 1 Axes>"
      ]
     },
     "metadata": {
      "needs_background": "light"
     },
     "output_type": "display_data"
    }
   ],
   "source": [
    "plt.scatter( df.loc[df.y == 0].feat1, df.loc[df.y == 0].feat2, color='r')\n",
    "plt.scatter( df.loc[df.y == 1].feat1, df.loc[df.y == 1].feat2, color='g')\n",
    "\n",
    "\n",
    "# decision boundary line \n",
    "# a * x_1 + b * x_2 + c = 0\n",
    "# x_2 = - (a * x_1 + c / b)\n",
    "def f_x(x1):\n",
    "  return - (model.coef_[0][0] * x1 + model.intercept_ / model.coef_[0][1])\n",
    "\n",
    "\n",
    "plt.plot([0, 5], [f_x(0), f_x(5)])"
   ]
  },
  {
   "cell_type": "markdown",
   "metadata": {},
   "source": [
    "## Softmax"
   ]
  },
  {
   "cell_type": "code",
   "execution_count": 141,
   "metadata": {},
   "outputs": [
    {
     "data": {
      "text/plain": [
       "array([2])"
      ]
     },
     "execution_count": 141,
     "metadata": {},
     "output_type": "execute_result"
    }
   ],
   "source": [
    "X_train = np.array([1, 2, 3, 4, 5, 6, 7, 8, 9, 10, 11, 12]).reshape(-1, 1)\n",
    "y_train = [0, 0, 0, 0, 1, 1, 1, 1, 2, 2, 2, 2]\n",
    "\n",
    "model = LogisticRegression(\n",
    "  multi_class='multinomial'\n",
    ")\n",
    "model.fit(X_train, y_train)\n",
    "\n",
    "model.predict([[9.5]])"
   ]
  },
  {
   "cell_type": "code",
   "execution_count": 142,
   "metadata": {},
   "outputs": [],
   "source": [
    "X = np.linspace(0, 13, 100).reshape(-1, 1)\n",
    "y_prob = model.predict_proba(X)"
   ]
  },
  {
   "cell_type": "code",
   "execution_count": 143,
   "metadata": {},
   "outputs": [
    {
     "data": {
      "text/plain": [
       "array([[-1.15375574e+00],\n",
       "       [ 5.76411974e-06],\n",
       "       [ 1.15374998e+00]])"
      ]
     },
     "execution_count": 143,
     "metadata": {},
     "output_type": "execute_result"
    }
   ],
   "source": [
    "# there are three separate lines\n",
    "model.coef_"
   ]
  },
  {
   "cell_type": "code",
   "execution_count": 144,
   "metadata": {},
   "outputs": [
    {
     "data": {
      "text/plain": [
       "array([ 6.74004088,  1.51866749, -8.25870837])"
      ]
     },
     "execution_count": 144,
     "metadata": {},
     "output_type": "execute_result"
    }
   ],
   "source": [
    "model.intercept_"
   ]
  },
  {
   "cell_type": "code",
   "execution_count": 33,
   "metadata": {},
   "outputs": [
    {
     "data": {
      "text/plain": [
       "(0.0, 13.0)"
      ]
     },
     "execution_count": 33,
     "metadata": {},
     "output_type": "execute_result"
    },
    {
     "data": {
      "image/png": "[encoded data removed]",
      "text/plain": [
       "<Figure size 432x288 with 1 Axes>"
      ]
     },
     "metadata": {
      "needs_background": "light"
     },
     "output_type": "display_data"
    }
   ],
   "source": [
    "plt.scatter(X_train, y_train)\n",
    "\n",
    "plt.plot(X, y_prob[:, 0], color='g')\n",
    "plt.plot(X, y_prob[:, 1], color='c')\n",
    "plt.plot(X, y_prob[:, 2], color='m')\n",
    "\n",
    "\n",
    "plt.ylim(-0.5, 2.5)\n",
    "plt.xlim(0, 13)"
   ]
  }
 ],
 "metadata": {
  "kernelspec": {
   "display_name": "Python 3.10.1 64-bit",
   "language": "python",
   "name": "python3"
  },
  "language_info": {
   "codemirror_mode": {
    "name": "ipython",
    "version": 3
   },
   "file_extension": ".py",
   "mimetype": "text/x-python",
   "name": "python",
   "nbconvert_exporter": "python",
   "pygments_lexer": "ipython3",
   "version": "3.10.1"
  },
  "orig_nbformat": 4,
  "vscode": {
   "interpreter": {
    "hash": "26de051ba29f2982a8de78e945f0abaf191376122a1563185a90213a26c5da77"
   }
  }
 },
 "nbformat": 4,
 "nbformat_minor": 2
}
