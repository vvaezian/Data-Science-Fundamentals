{
 "cells": [
  {
   "cell_type": "code",
   "execution_count": 16,
   "metadata": {},
   "outputs": [
    {
     "data": {
      "text/plain": [
       "array([1])"
      ]
     },
     "execution_count": 16,
     "metadata": {},
     "output_type": "execute_result"
    }
   ],
   "source": [
    "from sklearn.linear_model import LogisticRegression\n",
    "import numpy as np\n",
    "import matplotlib.pyplot as plt \n",
    "\n",
    "X_train = np.array([1, 2, 3, 4, 5, 6, 7, 8]).reshape(-1, 1)\n",
    "y_train = [0, 0, 0, 0, 1, 1, 1, 1]\n",
    "\n",
    "model = LogisticRegression()  # default regularization: l2\n",
    "model.fit(X_train, y_train)\n",
    "\n",
    "model.predict([[5]])"
   ]
  },
  {
   "cell_type": "code",
   "execution_count": 17,
   "metadata": {},
   "outputs": [
    {
     "data": {
      "text/plain": [
       "array([[0.98360598, 0.01639402],\n",
       "       [0.98200989, 0.01799011],\n",
       "       [0.98026153, 0.01973847],\n",
       "       [0.97834701, 0.02165299],\n",
       "       [0.97625128, 0.02374872],\n",
       "       [0.97395812, 0.02604188],\n",
       "       [0.97145001, 0.02854999],\n",
       "       [0.96870809, 0.03129191],\n",
       "       [0.96571215, 0.03428785],\n",
       "       [0.96244048, 0.03755952],\n",
       "       [0.95886994, 0.04113006],\n",
       "       [0.95497584, 0.04502416],\n",
       "       [0.95073201, 0.04926799],\n",
       "       [0.94611074, 0.05388926],\n",
       "       [0.94108286, 0.05891714],\n",
       "       [0.9356178 , 0.0643822 ],\n",
       "       [0.92968369, 0.07031631],\n",
       "       [0.9232475 , 0.0767525 ],\n",
       "       [0.91627525, 0.08372475],\n",
       "       [0.90873225, 0.09126775],\n",
       "       [0.9005834 , 0.0994166 ],\n",
       "       [0.89179363, 0.10820637],\n",
       "       [0.88232825, 0.11767175],\n",
       "       [0.8721536 , 0.1278464 ],\n",
       "       [0.86123753, 0.13876247],\n",
       "       [0.84955019, 0.15044981],\n",
       "       [0.83706471, 0.16293529],\n",
       "       [0.82375804, 0.17624196],\n",
       "       [0.80961181, 0.19038819],\n",
       "       [0.79461322, 0.20538678],\n",
       "       [0.77875595, 0.22124405],\n",
       "       [0.76204101, 0.23795899],\n",
       "       [0.74447762, 0.25552238],\n",
       "       [0.72608387, 0.27391613],\n",
       "       [0.70688735, 0.29311265],\n",
       "       [0.68692559, 0.31307441],\n",
       "       [0.66624624, 0.33375376],\n",
       "       [0.64490705, 0.35509295],\n",
       "       [0.62297558, 0.37702442],\n",
       "       [0.6005286 , 0.3994714 ],\n",
       "       [0.57765124, 0.42234876],\n",
       "       [0.55443579, 0.44556421],\n",
       "       [0.53098036, 0.46901964],\n",
       "       [0.50738725, 0.49261275],\n",
       "       [0.48376119, 0.51623881],\n",
       "       [0.4602075 , 0.5397925 ],\n",
       "       [0.43683021, 0.56316979],\n",
       "       [0.41373025, 0.58626975],\n",
       "       [0.39100373, 0.60899627],\n",
       "       [0.3687404 , 0.6312596 ],\n",
       "       [0.34702239, 0.65297761],\n",
       "       [0.32592309, 0.67407691],\n",
       "       [0.30550644, 0.69449356],\n",
       "       [0.28582643, 0.71417357],\n",
       "       [0.26692691, 0.73307309],\n",
       "       [0.24884165, 0.75115835],\n",
       "       [0.23159461, 0.76840539],\n",
       "       [0.21520048, 0.78479952],\n",
       "       [0.19966531, 0.80033469],\n",
       "       [0.18498727, 0.81501273],\n",
       "       [0.1711575 , 0.8288425 ],\n",
       "       [0.15816101, 0.84183899],\n",
       "       [0.14597757, 0.85402243],\n",
       "       [0.13458261, 0.86541739],\n",
       "       [0.12394804, 0.87605196],\n",
       "       [0.11404307, 0.88595693],\n",
       "       [0.1048349 , 0.8951651 ],\n",
       "       [0.09628942, 0.90371058],\n",
       "       [0.08837175, 0.91162825],\n",
       "       [0.08104675, 0.91895325],\n",
       "       [0.07427943, 0.92572057],\n",
       "       [0.06803534, 0.93196466],\n",
       "       [0.06228083, 0.93771917],\n",
       "       [0.05698328, 0.94301672],\n",
       "       [0.0521113 , 0.9478887 ],\n",
       "       [0.04763482, 0.95236518],\n",
       "       [0.04352522, 0.95647478],\n",
       "       [0.03975537, 0.96024463],\n",
       "       [0.03629965, 0.96370035],\n",
       "       [0.03313395, 0.96686605],\n",
       "       [0.03023567, 0.96976433],\n",
       "       [0.02758367, 0.97241633],\n",
       "       [0.02515825, 0.97484175],\n",
       "       [0.02294106, 0.97705894],\n",
       "       [0.02091508, 0.97908492],\n",
       "       [0.01906453, 0.98093547],\n",
       "       [0.01737481, 0.98262519],\n",
       "       [0.01583243, 0.98416757],\n",
       "       [0.01442497, 0.98557503],\n",
       "       [0.01314095, 0.98685905],\n",
       "       [0.01196984, 0.98803016],\n",
       "       [0.01090194, 0.98909806],\n",
       "       [0.00992836, 0.99007164],\n",
       "       [0.00904093, 0.99095907],\n",
       "       [0.00823216, 0.99176784],\n",
       "       [0.0074952 , 0.9925048 ],\n",
       "       [0.00682375, 0.99317625],\n",
       "       [0.00621208, 0.99378792],\n",
       "       [0.00565493, 0.99434507],\n",
       "       [0.00514748, 0.99485252]])"
      ]
     },
     "execution_count": 17,
     "metadata": {},
     "output_type": "execute_result"
    }
   ],
   "source": [
    "# class probabilities for each point\n",
    "X = np.linspace(1, 9, 100).reshape(-1, 1)\n",
    "y_prob = model.predict_proba(X)\n",
    "\n",
    "y_prob"
   ]
  },
  {
   "cell_type": "code",
   "execution_count": 18,
   "metadata": {},
   "outputs": [
    {
     "data": {
      "text/plain": [
       "(0.0, 10.0)"
      ]
     },
     "execution_count": 18,
     "metadata": {},
     "output_type": "execute_result"
    },
    {
     "data": {
      "image/png": "[encoded data removed]",
      "text/plain": [
       "<Figure size 432x288 with 1 Axes>"
      ]
     },
     "metadata": {
      "needs_background": "light"
     },
     "output_type": "display_data"
    }
   ],
   "source": [
    "plt.scatter( X_train, y_train)\n",
    "\n",
    "plt.plot(X, y_prob[:, 1], color='g')\n",
    "plt.plot(X, y_prob[:, 0], color='c')\n",
    "\n",
    "# plotting the decision boundary (a point)\n",
    "# ax + b = 0 -> x = -b/a\n",
    "plt.scatter(- model.intercept_/model.coef_, 0, marker='x', color='r')\n",
    "\n",
    "plt.axhline(0, color='black')\n",
    "plt.axvline(0, color='black')\n",
    "plt.ylim(-0.5, 1.5)\n",
    "plt.xlim(0, 10)"
   ]
  },
  {
   "cell_type": "markdown",
   "metadata": {},
   "source": [
    "#### Withhout regularization"
   ]
  },
  {
   "cell_type": "code",
   "execution_count": 19,
   "metadata": {},
   "outputs": [
    {
     "data": {
      "text/plain": [
       "(0.0, 10.0)"
      ]
     },
     "execution_count": 19,
     "metadata": {},
     "output_type": "execute_result"
    },
    {
     "data": {
      "image/png": "[encoded data removed]",
      "text/plain": [
       "<Figure size 432x288 with 1 Axes>"
      ]
     },
     "metadata": {
      "needs_background": "light"
     },
     "output_type": "display_data"
    }
   ],
   "source": [
    "model = LogisticRegression(penalty='none')\n",
    "model.fit(X_train, y_train)\n",
    "y_prob = model.predict_proba(X)\n",
    "\n",
    "plt.scatter( X_train, y_train)\n",
    "\n",
    "plt.plot(X, y_prob[:, 1], color='g')\n",
    "plt.plot(X, y_prob[:, 0], color='c')\n",
    "\n",
    "# plotting the decision boundary (a point)\n",
    "# ax + b = 0 -> x = -b/a\n",
    "plt.scatter(- model.intercept_/model.coef_, 0, marker='x', color='r')\n",
    "\n",
    "plt.axhline(0, color='black')\n",
    "plt.axvline(0, color='black')\n",
    "plt.ylim(-0.5, 1.5)\n",
    "plt.xlim(0, 10)"
   ]
  },
  {
   "cell_type": "markdown",
   "metadata": {},
   "source": [
    "#### With Two features (predictors)"
   ]
  },
  {
   "cell_type": "code",
   "execution_count": 116,
   "metadata": {},
   "outputs": [
    {
     "data": {
      "text/plain": [
       "array([0])"
      ]
     },
     "execution_count": 116,
     "metadata": {},
     "output_type": "execute_result"
    }
   ],
   "source": [
    "X_train = np.array(np.array([[1, 2], [2, 2], [2, 1], [3, 4], [4, 4], [4, 3]]))\n",
    "y_train = [0, 0, 0, 1, 1, 1]\n",
    "\n",
    "model = LogisticRegression() \n",
    "model.fit(X_train, y_train)\n",
    "\n",
    "model.predict([[1, 1]])"
   ]
  },
  {
   "cell_type": "code",
   "execution_count": 117,
   "metadata": {},
   "outputs": [],
   "source": [
    "X = list(zip(np.linspace(0, 5, 100), np.linspace(0, 5, 100)))\n",
    "y_prob = model.predict_proba(X)"
   ]
  },
  {
   "cell_type": "code",
   "execution_count": 120,
   "metadata": {},
   "outputs": [
    {
     "data": {
      "text/html": [
       "<div>\n",
       "<style scoped>\n",
       "    .dataframe tbody tr th:only-of-type {\n",
       "        vertical-align: middle;\n",
       "    }\n",
       "\n",
       "    .dataframe tbody tr th {\n",
       "        vertical-align: top;\n",
       "    }\n",
       "\n",
       "    .dataframe thead th {\n",
       "        text-align: right;\n",
       "    }\n",
       "</style>\n",
       "<table border=\"1\" class=\"dataframe\">\n",
       "  <thead>\n",
       "    <tr style=\"text-align: right;\">\n",
       "      <th></th>\n",
       "      <th>feat1</th>\n",
       "      <th>feat2</th>\n",
       "      <th>y</th>\n",
       "    </tr>\n",
       "  </thead>\n",
       "  <tbody>\n",
       "    <tr>\n",
       "      <th>0</th>\n",
       "      <td>1</td>\n",
       "      <td>2</td>\n",
       "      <td>0</td>\n",
       "    </tr>\n",
       "    <tr>\n",
       "      <th>1</th>\n",
       "      <td>2</td>\n",
       "      <td>2</td>\n",
       "      <td>0</td>\n",
       "    </tr>\n",
       "    <tr>\n",
       "      <th>2</th>\n",
       "      <td>2</td>\n",
       "      <td>1</td>\n",
       "      <td>0</td>\n",
       "    </tr>\n",
       "    <tr>\n",
       "      <th>3</th>\n",
       "      <td>3</td>\n",
       "      <td>4</td>\n",
       "      <td>1</td>\n",
       "    </tr>\n",
       "    <tr>\n",
       "      <th>4</th>\n",
       "      <td>4</td>\n",
       "      <td>4</td>\n",
       "      <td>1</td>\n",
       "    </tr>\n",
       "    <tr>\n",
       "      <th>5</th>\n",
       "      <td>4</td>\n",
       "      <td>3</td>\n",
       "      <td>1</td>\n",
       "    </tr>\n",
       "  </tbody>\n",
       "</table>\n",
       "</div>"
      ],
      "text/plain": [
       "   feat1  feat2  y\n",
       "0      1      2  0\n",
       "1      2      2  0\n",
       "2      2      1  0\n",
       "3      3      4  1\n",
       "4      4      4  1\n",
       "5      4      3  1"
      ]
     },
     "execution_count": 120,
     "metadata": {},
     "output_type": "execute_result"
    }
   ],
   "source": [
    "import pandas as pd\n",
    "df = pd.concat([pd.DataFrame(X_train), pd.DataFrame(y_train)], axis=1)\n",
    "df.columns = ['feat1', 'feat2', 'y']\n",
    "\n",
    "df"
   ]
  },
  {
   "cell_type": "code",
   "execution_count": 121,
   "metadata": {},
   "outputs": [
    {
     "data": {
      "text/plain": [
       "array([[0.86834805, 0.86834805]])"
      ]
     },
     "execution_count": 121,
     "metadata": {},
     "output_type": "execute_result"
    }
   ],
   "source": [
    "model.coef_"
   ]
  },
  {
   "cell_type": "code",
   "execution_count": 122,
   "metadata": {},
   "outputs": [
    {
     "data": {
      "text/plain": [
       "array([-4.63291466])"
      ]
     },
     "execution_count": 122,
     "metadata": {},
     "output_type": "execute_result"
    }
   ],
   "source": [
    "model.intercept_"
   ]
  },
  {
   "cell_type": "code",
   "execution_count": 109,
   "metadata": {},
   "outputs": [
    {
     "data": {
      "text/plain": [
       "[<matplotlib.lines.Line2D at 0x2013cd1b8b0>]"
      ]
     },
     "execution_count": 109,
     "metadata": {},
     "output_type": "execute_result"
    },
    {
     "data": {
      "image/png": "[encoded data removed]",
      "text/plain": [
       "<Figure size 432x288 with 1 Axes>"
      ]
     },
     "metadata": {
      "needs_background": "light"
     },
     "output_type": "display_data"
    }
   ],
   "source": [
    "plt.scatter( df.loc[df.y == 0].feat1, df.loc[df.y == 0].feat2, color='r')\n",
    "plt.scatter( df.loc[df.y == 1].feat1, df.loc[df.y == 1].feat2, color='g')\n",
    "\n",
    "\n",
    "# decision boundary line \n",
    "# a * x_1 + b * x_2 + c = 0\n",
    "# x_2 = - (a * x_1 + c / b)\n",
    "def f_x(x1):\n",
    "  return - (model.coef_[0][0] * x1 + model.intercept_ / model.coef_[0][1])\n",
    "\n",
    "\n",
    "plt.plot([0, 5], [f_x(0), f_x(5)])"
   ]
  },
  {
   "cell_type": "markdown",
   "metadata": {},
   "source": [
    "## Softmax"
   ]
  },
  {
   "cell_type": "code",
   "execution_count": 110,
   "metadata": {},
   "outputs": [
    {
     "data": {
      "text/plain": [
       "array([2])"
      ]
     },
     "execution_count": 110,
     "metadata": {},
     "output_type": "execute_result"
    }
   ],
   "source": [
    "X_train = np.array([1, 2, 3, 4, 5, 6, 7, 8, 9, 10, 11, 12]).reshape(-1, 1)\n",
    "y_train = [0, 0, 0, 0, 1, 1, 1, 1, 2, 2, 2, 2]\n",
    "\n",
    "model = LogisticRegression(\n",
    "  multi_class='multinomial'\n",
    ")\n",
    "model.fit(X_train, y_train)\n",
    "\n",
    "model.predict([[9.5]])"
   ]
  },
  {
   "cell_type": "code",
   "execution_count": 111,
   "metadata": {},
   "outputs": [],
   "source": [
    "X = np.linspace(0, 13, 100).reshape(-1, 1)\n",
    "y_prob = model.predict_proba(X)"
   ]
  },
  {
   "cell_type": "code",
   "execution_count": 113,
   "metadata": {},
   "outputs": [
    {
     "data": {
      "text/plain": [
       "array([[-1.15375574e+00],\n",
       "       [ 5.76411974e-06],\n",
       "       [ 1.15374998e+00]])"
      ]
     },
     "execution_count": 113,
     "metadata": {},
     "output_type": "execute_result"
    }
   ],
   "source": [
    "# there are three separate lines\n",
    "model.coef_"
   ]
  },
  {
   "cell_type": "code",
   "execution_count": 114,
   "metadata": {},
   "outputs": [
    {
     "data": {
      "text/plain": [
       "array([ 6.74004088,  1.51866749, -8.25870837])"
      ]
     },
     "execution_count": 114,
     "metadata": {},
     "output_type": "execute_result"
    }
   ],
   "source": [
    "model.intercept_"
   ]
  },
  {
   "cell_type": "code",
   "execution_count": 33,
   "metadata": {},
   "outputs": [
    {
     "data": {
      "text/plain": [
       "(0.0, 13.0)"
      ]
     },
     "execution_count": 33,
     "metadata": {},
     "output_type": "execute_result"
    },
    {
     "data": {
      "image/png": "[encoded data removed]",
      "text/plain": [
       "<Figure size 432x288 with 1 Axes>"
      ]
     },
     "metadata": {
      "needs_background": "light"
     },
     "output_type": "display_data"
    }
   ],
   "source": [
    "plt.scatter(X_train, y_train)\n",
    "\n",
    "plt.plot(X, y_prob[:, 0], color='g')\n",
    "plt.plot(X, y_prob[:, 1], color='c')\n",
    "plt.plot(X, y_prob[:, 2], color='m')\n",
    "\n",
    "\n",
    "plt.ylim(-0.5, 2.5)\n",
    "plt.xlim(0, 13)"
   ]
  }
 ],
 "metadata": {
  "kernelspec": {
   "display_name": "Python 3.10.1 64-bit",
   "language": "python",
   "name": "python3"
  },
  "language_info": {
   "codemirror_mode": {
    "name": "ipython",
    "version": 3
   },
   "file_extension": ".py",
   "mimetype": "text/x-python",
   "name": "python",
   "nbconvert_exporter": "python",
   "pygments_lexer": "ipython3",
   "version": "3.10.1"
  },
  "orig_nbformat": 4,
  "vscode": {
   "interpreter": {
    "hash": "26de051ba29f2982a8de78e945f0abaf191376122a1563185a90213a26c5da77"
   }
  }
 },
 "nbformat": 4,
 "nbformat_minor": 2
}
